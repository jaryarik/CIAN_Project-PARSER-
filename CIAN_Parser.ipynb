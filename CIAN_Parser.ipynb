{
 "cells": [
  {
   "cell_type": "markdown",
   "metadata": {},
   "source": [
    "# Загрузка библиотек\n",
    "Загрузим необходимые библиотеки."
   ]
  },
  {
   "cell_type": "code",
   "execution_count": 51,
   "metadata": {
    "collapsed": true
   },
   "outputs": [],
   "source": [
    "import requests\n",
    "import re\n",
    "from bs4 import BeautifulSoup\n",
    "import pandas as pd\n",
    "import time\n",
    "import numpy as np"
   ]
  },
  {
   "cell_type": "markdown",
   "metadata": {},
   "source": [
    "# Определение функций\n",
    "У каждой квартиры 15 параметров.\n",
    "Определим функции для извлечения этих параметров (и вспомогательные функции)."
   ]
  },
  {
   "cell_type": "markdown",
   "metadata": {},
   "source": [
    ".) Вспомогательная функция №1:"
   ]
  },
  {
   "cell_type": "code",
   "execution_count": 52,
   "metadata": {
    "collapsed": true
   },
   "outputs": [],
   "source": [
    "def html_stripper(text):\n",
    "    return re.sub('<[^<]+?>', '', str(text))"
   ]
  },
  {
   "cell_type": "markdown",
   "metadata": {},
   "source": [
    "1) Для извлечения Price – цены:"
   ]
  },
  {
   "cell_type": "code",
   "execution_count": 53,
   "metadata": {
    "collapsed": true
   },
   "outputs": [],
   "source": [
    "def getPrice(flat_page):\n",
    "    try:\n",
    "        price = flat_page.find('div', attrs={'class':'object_descr_price'})\n",
    "        price = re.split('<div>|руб|\\W', str(price))\n",
    "        price = \"\".join([i for i in price if i.isdigit()][-4:])\n",
    "        return int(price)\n",
    "    except: \n",
    "        return np.NaN\n",
    "#P.S.: В вашем коде была одна другая строчка:\n",
    "#        price = \"\".join([i for i in price if i.isdigit()][-3:])\n",
    "#      Но на сайте есть квартиры стоимостью больше миллиарда.\n",
    "#      => Нужно писать:\n",
    "#        price = \"\".join([i for i in price if i.isdigit()][-4:]) ,\n",
    "#      т.е. брать 4 элемента из списка с ценой.\n",
    "#      Для квартир стоимостью меньше миллиарда код будет работать по-прежнему."
   ]
  },
  {
   "cell_type": "markdown",
   "metadata": {},
   "source": [
    "2) Для извлечения Dist – расстояния от центра в км.:"
   ]
  },
  {
   "cell_type": "code",
   "execution_count": 54,
   "metadata": {
    "collapsed": true
   },
   "outputs": [],
   "source": [
    "#Координаты центра Москвы согласно Яндекс: (37.609218,55.753559)\n",
    "#Расстояние вычисляется по теореме Пифагора\n",
    "lat_center = 55.753559\n",
    "lon_center = 37.609218\n",
    "def getDist(flat_page):\n",
    "    try:\n",
    "        coords = flat_page.find('div', attrs={'class':'map_info_button_extend'}).contents[1]\n",
    "        coords = re.split('&amp|center=|%2C', str(coords))\n",
    "        coords_list = []\n",
    "        for item in coords:\n",
    "            if item[0].isdigit():\n",
    "                coords_list.append(item)\n",
    "        lat = float(coords_list[0])\n",
    "        lon = float(coords_list[1])\n",
    "        return ((((lat_center - lat)**2)+((lon_center - lon)**2))**(1/2))/0.014723278711700902\n",
    "    except: \n",
    "        return np.NaN"
   ]
  },
  {
   "cell_type": "markdown",
   "metadata": {},
   "source": [
    "3) Для извлечения Rooms – числа комнат:"
   ]
  },
  {
   "cell_type": "code",
   "execution_count": 66,
   "metadata": {
    "collapsed": true
   },
   "outputs": [],
   "source": [
    "def getRoom(flat_page):\n",
    "    try:\n",
    "        rooms = flat_page.find('div', attrs={'class':'object_descr_title'})\n",
    "        rooms = html_stripper(rooms)\n",
    "        room_number = ''\n",
    "        for i in re.split('-|\\n', rooms):\n",
    "            if 'комн' in i:\n",
    "                break\n",
    "            else:\n",
    "                room_number += i\n",
    "        room_number = \"\".join(room_number.split())\n",
    "        return room_number\n",
    "    except: \n",
    "        return np.NaN"
   ]
  },
  {
   "cell_type": "markdown",
   "metadata": {},
   "source": [
    "На странице выбранной квартиры находится таблица с ее описанием. Почти все остальные параметры можно взять из нее почти тем же образом, которым мы получили предыдущие параметры.\n",
    "=> Продолжим извлекать параметры* (*для удобства я сделал это в том порядке, в котором они даны в описании к заданию)."
   ]
  },
  {
   "cell_type": "markdown",
   "metadata": {},
   "source": [
    "4) Для извлечения New – типа дома (1 – первичный рынок, 0 - вторичка):"
   ]
  },
  {
   "cell_type": "code",
   "execution_count": 67,
   "metadata": {
    "collapsed": true
   },
   "outputs": [],
   "source": [
    "def getNew(flat_page):\n",
    "    try:\n",
    "        table = flat_page.find('table', attrs = {'class':'object_descr_props'})\n",
    "        table = html_stripper(table)\n",
    "        new = re.split('Тип дома:|Тип продажи', table)[1]\n",
    "        for i in re.split('-|\\n', new):\n",
    "            if 'вторичка' in i:\n",
    "                return 0\n",
    "            if 'новостройка' in i:\n",
    "                return 1\n",
    "        return np.NaN #Если там нет ни \"вторичка\", ни \"новостройка\"\n",
    "    except: #Если там нет таблицы => нет информации\n",
    "        return np.NaN"
   ]
  },
  {
   "cell_type": "markdown",
   "metadata": {},
   "source": [
    "5) Для извлечения Totsp – общей площади квартиры, кв. м.:"
   ]
  },
  {
   "cell_type": "code",
   "execution_count": 68,
   "metadata": {
    "collapsed": true
   },
   "outputs": [],
   "source": [
    "def getTotsp(flat_page):\n",
    "    try:\n",
    "        table = flat_page.find('table', attrs = {'class':'object_descr_props'})\n",
    "        table = html_stripper(table)\n",
    "        totsp = re.split('Общая площадь:|Площадь комнат', table)[1]\n",
    "        for i in re.split('-|\\n', totsp):\n",
    "            if '\\xa0м2' in i:\n",
    "                t = re.split('\\xa0', i)[0]\n",
    "                return int(re.split('-|,',t)[0])\n",
    "        return np.NaN\n",
    "    except:\n",
    "        return np.NaN"
   ]
  },
  {
   "cell_type": "markdown",
   "metadata": {},
   "source": [
    "6) Для извлечения Livesp – жилой площади квартиры, кв. м."
   ]
  },
  {
   "cell_type": "code",
   "execution_count": 69,
   "metadata": {
    "collapsed": true
   },
   "outputs": [],
   "source": [
    "def getLivesp(flat_page):\n",
    "    try:\n",
    "        table = flat_page.find('table', attrs = {'class':'object_descr_props'})\n",
    "        table = html_stripper(table)\n",
    "        livesp = re.split('Жилая площадь:|Площадь кухни', table)[1]\n",
    "        for i in re.split('-|\\n', livesp):\n",
    "            if '\\xa0м2' in i:\n",
    "                l = re.split('\\xa0', i)[0]\n",
    "                return int(re.split('-|,',l)[0])\n",
    "        return np.NaN\n",
    "    except: \n",
    "        return np.NaN"
   ]
  },
  {
   "cell_type": "markdown",
   "metadata": {},
   "source": [
    "7) Для извлечения Kitsp – площади кухни, кв. м.:"
   ]
  },
  {
   "cell_type": "code",
   "execution_count": 70,
   "metadata": {
    "collapsed": true
   },
   "outputs": [],
   "source": [
    "def getKitsp(flat_page):\n",
    "    try:\n",
    "        table = flat_page.find('table', attrs = {'class':'object_descr_props'})\n",
    "        table = html_stripper(table)\n",
    "        kitsp = re.split('Площадь кухни:|санузлов', table)[1]\n",
    "        for i in re.split('-|\\n', kitsp):\n",
    "            if '\\xa0м2' in i:\n",
    "                k = re.split('\\xa0', i)[0]\n",
    "                return int(re.split('-|,',k)[0])\n",
    "        return np.NaN\n",
    "    except: \n",
    "        return np.NaN"
   ]
  },
  {
   "cell_type": "markdown",
   "metadata": {},
   "source": [
    "8) Для извлечения Metrdist – расстояния до метро в минутах"
   ]
  },
  {
   "cell_type": "code",
   "execution_count": 71,
   "metadata": {
    "collapsed": true
   },
   "outputs": [],
   "source": [
    "def getMetrdist(flat_page):  \n",
    "    try:\n",
    "        metro = flat_page.find('span', attrs = {'class':'object_item_metro_comment'})\n",
    "        metro = html_stripper(metro)\n",
    "        metro = re.split('-|\\n', metro)\n",
    "        if metro[1][len(metro[1])-2].isdigit() == True:\n",
    "                return int(metro[1][len(metro[1])-2] + metro[1][len(metro[1])-1])\n",
    "        else:\n",
    "            return int(metro[1][len(metro[1])-1])\n",
    "    except: \n",
    "        return np.NaN"
   ]
  },
  {
   "cell_type": "markdown",
   "metadata": {},
   "source": [
    "9) Для извлечения Walk – (адекватной) возможности дойти пешком от метро (1 – если пешком от метро, 0 – если на транспорте)"
   ]
  },
  {
   "cell_type": "code",
   "execution_count": 72,
   "metadata": {
    "collapsed": true
   },
   "outputs": [],
   "source": [
    "def getWalk(flat_page):\n",
    "    try:\n",
    "        metro = flat_page.find('span', attrs = {'class':'object_item_metro_comment'})\n",
    "        metro = html_stripper(metro)\n",
    "        metro = re.split('-|\\n', metro)    \n",
    "        for i in metro:\n",
    "            if 'пешком' in i:\n",
    "                return 1\n",
    "        return 0\n",
    "    except: \n",
    "        return np.NaN"
   ]
  },
  {
   "cell_type": "markdown",
   "metadata": {},
   "source": [
    "10) Для извлечения Brick – типа дома (1 – кирпичный/монолит/жб, 0 – другой)"
   ]
  },
  {
   "cell_type": "code",
   "execution_count": 73,
   "metadata": {
    "collapsed": true
   },
   "outputs": [],
   "source": [
    "def getBrick(flat_page):\n",
    "    try:\n",
    "        table = flat_page.find('table', attrs = {'class':'object_descr_props'})\n",
    "        table = html_stripper(table)\n",
    "        brick = re.split('Тип дома:|Тип продажи', table)[1]\n",
    "        for i in re.split('-|\\n', brick):\n",
    "            i = i.replace(' ','')\n",
    "            if ('кирпичный' in i) or ('монолитный' in i) or ('панельный' in i):\n",
    "                return 1\n",
    "        return 0\n",
    "    except: \n",
    "        return np.NaN"
   ]
  },
  {
   "cell_type": "markdown",
   "metadata": {},
   "source": [
    "11) Для извлечения Tel – наличия телефона (1 – если есть, 0 – нет):"
   ]
  },
  {
   "cell_type": "code",
   "execution_count": 74,
   "metadata": {
    "collapsed": true
   },
   "outputs": [],
   "source": [
    "def getTel(flat_page):\n",
    "    try:\n",
    "        table = flat_page.find('table', attrs = {'class':'object_descr_props'})\n",
    "        table = html_stripper(table)\n",
    "        tel = re.split('Телефон:|Вид из окна', table)[1]\n",
    "        for i in re.split('-|\\n', tel):\n",
    "            if 'да' in i:\n",
    "                return 1\n",
    "        return 0\n",
    "    except: \n",
    "        return np.NaN"
   ]
  },
  {
   "cell_type": "markdown",
   "metadata": {},
   "source": [
    "12) Для извлечения Bal – наличия балкона/лоджии (1 – есть балкон/лоджия, 0 – нет):"
   ]
  },
  {
   "cell_type": "code",
   "execution_count": 75,
   "metadata": {
    "collapsed": true
   },
   "outputs": [],
   "source": [
    "def getBal(flat_page):\n",
    "    try:\n",
    "        table = flat_page.find('table', attrs = {'class':'object_descr_props'})\n",
    "        table = html_stripper(table)\n",
    "        bal = re.split('Балкон:|Лифт', table)[1]\n",
    "        for i in re.split('-|\\n', bal):\n",
    "            if 'да' in i:\n",
    "                return 1\n",
    "        return 0\n",
    "    except: \n",
    "        return np.NaN"
   ]
  },
  {
   "cell_type": "markdown",
   "metadata": {},
   "source": [
    "13) Для извлечения Floor – номера этажа, на котором расположена квартира:"
   ]
  },
  {
   "cell_type": "code",
   "execution_count": 76,
   "metadata": {
    "collapsed": true
   },
   "outputs": [],
   "source": [
    "def getFloor(flat_page):\n",
    "    try:\n",
    "        table = flat_page.find('table', attrs = {'class':'object_descr_props'})\n",
    "        table = html_stripper(table)\n",
    "        floor = re.split('Этаж:|Тип дома', table)[1]\n",
    "        for i in re.split('-|\\n', floor):\n",
    "            if '\\xa0' in i:\n",
    "                f = i.replace(' ','')\n",
    "                f = f.split('/',1)[0]\n",
    "                return int(f.replace('\\xa0',''))\n",
    "        return np.NaN\n",
    "    except: \n",
    "        return np.NaN"
   ]
  },
  {
   "cell_type": "markdown",
   "metadata": {},
   "source": [
    "14) Для извлечения Nfloors – количества всех этажей в доме:"
   ]
  },
  {
   "cell_type": "code",
   "execution_count": 77,
   "metadata": {
    "collapsed": true
   },
   "outputs": [],
   "source": [
    "def getNfloors(flat_page):\n",
    "    try:\n",
    "        table = flat_page.find('table', attrs = {'class':'object_descr_props'})\n",
    "        table = html_stripper(table)\n",
    "        Nfloors = re.split('Этаж:|Тип дома', table)[1]\n",
    "        for i in re.split('-|\\n', Nfloors):\n",
    "            if '\\xa0' in i:\n",
    "                Nf = i.replace(' ','')\n",
    "                Nf = Nf.split('/',1)[1]\n",
    "                return int(Nf.replace('\\xa0',''))\n",
    "        return np.NaN\n",
    "    except: \n",
    "        return np.NaN"
   ]
  },
  {
   "cell_type": "markdown",
   "metadata": {},
   "source": [
    ".) Вспомогательная функция №2:"
   ]
  },
  {
   "cell_type": "code",
   "execution_count": 78,
   "metadata": {
    "collapsed": true
   },
   "outputs": [],
   "source": [
    "#Нам также понадобится вспомогательная функция для удаления повторяющихся квартир (т.е. повторяющихся сылок) в датасете.\n",
    "def delete_dublicates(links):\n",
    "    oldlinks = set()\n",
    "    oldlinks_add = oldlinks.add\n",
    "    return [x for x in links if not (x in oldlinks or oldlinks_add(x))]"
   ]
  },
  {
   "cell_type": "markdown",
   "metadata": {},
   "source": [
    "# Непосредственно сам процесс\n",
    "Я постараюсь подойти к задаче гибко."
   ]
  },
  {
   "cell_type": "code",
   "execution_count": 79,
   "metadata": {
    "collapsed": true
   },
   "outputs": [],
   "source": [
    "#Выкачивать весь ЦИАН - долго, но это можно сделать с помощью, так сказать, мастер ссылки:\n",
    "Super_Link = 'http://www.cian.ru/cat.php?deal_type=sale&district%5B0%5D={}&engine_version=2&offer_type=flat&p={}&room{}=1'\n",
    "#С ее помощью можно задавать различные параметры поиска: район квартиры, количество комнат в ней и номер страницы из результатов поиска"
   ]
  },
  {
   "cell_type": "markdown",
   "metadata": {},
   "source": [
    "Из-за экономии времени* (дедлайн приближается!:с) не будем использовать \"супергибкую\" ссылку Super_Link.\n",
    "Заменим ее на следующий список ссылок:"
   ]
  },
  {
   "cell_type": "code",
   "execution_count": 80,
   "metadata": {
    "collapsed": true
   },
   "outputs": [],
   "source": [
    "Okruga = [\\\n",
    "'http://www.cian.ru/cat.php?deal_type=sale&district%5B0%5D=13&district%5B1%5D=14&district%5B2%5D=15&district%5B3%5D=16&district%5B4%5D=17&district%5B5%5D=18&district%5B6%5D=19&district%5B7%5D=20&district%5B8%5D=21&district%5B9%5D=22&engine_version=2&offer_type=flat&p={}&room1=1&room2=1&room3=1&room4=1&room5=1&room6=1',\\\n",
    "'http://www.cian.ru/cat.php?deal_type=sale&district%5B0%5D=23&district%5B1%5D=24&district%5B10%5D=33&district%5B11%5D=34&district%5B12%5D=35&district%5B13%5D=36&district%5B14%5D=37&district%5B15%5D=38&district%5B2%5D=25&district%5B3%5D=26&district%5B4%5D=27&district%5B5%5D=28&district%5B6%5D=29&district%5B7%5D=30&district%5B8%5D=31&district%5B9%5D=32&engine_version=2&offer_type=flat&p={}&room1=1&room2=1&room3=1&room4=1&room5=1&room6=1',\\\n",
    "'http://www.cian.ru/cat.php?deal_type=sale&district%5B0%5D=39&district%5B1%5D=40&district%5B10%5D=49&district%5B11%5D=50&district%5B12%5D=51&district%5B13%5D=52&district%5B14%5D=53&district%5B15%5D=54&district%5B16%5D=55&district%5B2%5D=41&district%5B3%5D=42&district%5B4%5D=43&district%5B5%5D=44&district%5B6%5D=45&district%5B7%5D=46&district%5B8%5D=47&district%5B9%5D=48&engine_version=2&offer_type=flat&p={}&room1=1&room2=1&room3=1&room4=1&room5=1&room6=1',\\\n",
    "'http://www.cian.ru/cat.php?deal_type=sale&district%5B0%5D=56&district%5B1%5D=57&district%5B10%5D=66&district%5B11%5D=67&district%5B12%5D=68&district%5B13%5D=69&district%5B14%5D=70&district%5B15%5D=71&district%5B2%5D=58&district%5B3%5D=59&district%5B4%5D=60&district%5B5%5D=61&district%5B6%5D=62&district%5B7%5D=63&district%5B8%5D=64&district%5B9%5D=65&engine_version=2&offer_type=flat&p={}&room1=1&room2=1&room3=1&room4=1&room5=1&room6=1',\\\n",
    "'http://www.cian.ru/cat.php?deal_type=sale&district%5B0%5D=72&district%5B1%5D=73&district%5B10%5D=82&district%5B11%5D=83&district%5B2%5D=74&district%5B3%5D=75&district%5B4%5D=76&district%5B5%5D=77&district%5B6%5D=78&district%5B7%5D=79&district%5B8%5D=80&district%5B9%5D=81&engine_version=2&offer_type=flat&p={}&room1=1&room2=1&room3=1&room4=1&room5=1&room6=1',\\\n",
    "'http://www.cian.ru/cat.php?deal_type=sale&district%5B0%5D=84&district%5B1%5D=85&district%5B10%5D=94&district%5B11%5D=95&district%5B12%5D=96&district%5B13%5D=97&district%5B14%5D=98&district%5B15%5D=99&district%5B2%5D=86&district%5B3%5D=87&district%5B4%5D=88&district%5B5%5D=89&district%5B6%5D=90&district%5B7%5D=91&district%5B8%5D=92&district%5B9%5D=93&engine_version=2&offer_type=flat&p={}&room1=1&room2=1&room3=1&room4=1&room5=1&room6=1',\\\n",
    "'http://www.cian.ru/cat.php?deal_type=sale&district%5B0%5D=100&district%5B1%5D=101&district%5B10%5D=110&district%5B11%5D=111&district%5B2%5D=102&district%5B3%5D=103&district%5B4%5D=104&district%5B5%5D=105&district%5B6%5D=106&district%5B7%5D=107&district%5B8%5D=108&district%5B9%5D=109&engine_version=2&offer_type=flat&p={}&room1=1&room2=1&room3=1&room4=1&room5=1&room6=1',\\\n",
    "'http://www.cian.ru/cat.php?deal_type=sale&district%5B0%5D=112&district%5B1%5D=113&district%5B10%5D=122&district%5B11%5D=123&district%5B12%5D=124&district%5B13%5D=348&district%5B14%5D=349&district%5B15%5D=350&district%5B2%5D=114&district%5B3%5D=115&district%5B4%5D=116&district%5B5%5D=117&district%5B6%5D=118&district%5B7%5D=119&district%5B8%5D=120&district%5B9%5D=121&engine_version=2&offer_type=flat&p={}&room1=1&room2=1&room3=1&room4=1&room5=1&room6=1',\\\n",
    "'http://www.cian.ru/cat.php?deal_type=sale&district%5B0%5D=125&district%5B1%5D=126&district%5B2%5D=127&district%5B3%5D=128&district%5B4%5D=129&district%5B5%5D=130&district%5B6%5D=131&district%5B7%5D=132&engine_version=2&offer_type=flat&p={}&room1=1&room2=1&room3=1&room4=1&room5=1&room6=1'\\\n",
    "            ]\n",
    "# Каждая ссылка из списка - это ссылка на квартиры из одного округа* с возможностью гулять по страницам.\n",
    "# 9 ссылок <=> рассматриваю 9 округов."
   ]
  },
  {
   "cell_type": "markdown",
   "metadata": {},
   "source": [
    "*В теории данная замена должна была быть эквивалентной...Но из-за самого сайта ЦИАН ссылка на округ на самом деле выдает не все квартиры в данном округе - т.е. меньше, чем если бы мы воспользовались Super_Link и прошлись по всем районам (districts), соответствующим этому округу => Экономим время, но выкачиваем не все квартиры (опять же, если это нас не устраивает - можно воспользоваться Super_Link)."
   ]
  },
  {
   "cell_type": "markdown",
   "metadata": {},
   "source": [
    "Создадим DataFrame, в который в дальнейшем (после выполнения цикла) поместим информацию по квартирам (параметры)."
   ]
  },
  {
   "cell_type": "code",
   "execution_count": 81,
   "metadata": {
    "collapsed": false
   },
   "outputs": [],
   "source": [
    "Data_Flats = pd.DataFrame(columns=['n','rooms','price','totsp','livesp','kitsp','dist','metrdist','walk','brick','tel','bal','floor','nfloors','new'])"
   ]
  },
  {
   "cell_type": "markdown",
   "metadata": {
    "collapsed": true
   },
   "source": [
    "# (цикл:)"
   ]
  },
  {
   "cell_type": "markdown",
   "metadata": {},
   "source": [
    "Цикл должен пройти по всем округам и по всем страницам внутри каждого округа.\n",
    "Я проверил, что максимальное количество страниц для округа - 30."
   ]
  },
  {
   "cell_type": "markdown",
   "metadata": {},
   "source": [
    "=> План действий: Из каждого округа выкачиваем 30 страниц -> используем уже определенную \"Вспомогательную функцию №2\": delete_dublicates(.) для удаления повторяющихся квартир (повторения возникают из-за самого сайта) -> применяем уже определенные \"Функции для извлечения параметров\" на полученном массиве -> результаты записываем в соответствующие параметры -> а параметры в Data_Flats"
   ]
  },
  {
   "cell_type": "code",
   "execution_count": 82,
   "metadata": {
    "collapsed": false,
    "scrolled": true
   },
   "outputs": [],
   "source": [
    "#Заметим, что ссылка на любую квартиру имеет следующий вид:\n",
    "# http://www.cian.ru/sale/flat/*********, где * - цифра.\n",
    "#Поэтому, давайте заранее определим следующее выражение, в которое потом будем подставлять нужные цифры:\n",
    "links_basis = \"http://www.cian.ru/sale/flat/{}\" #(в {} для каждой квартиры будем подставлять свою \"численную часть\", которую я назвал: \"link\") "
   ]
  },
  {
   "cell_type": "code",
   "execution_count": 85,
   "metadata": {
    "collapsed": false
   },
   "outputs": [],
   "source": [
    "n_count = 0\n",
    "for okrug in Okruga:\n",
    "    \n",
    "    links = []\n",
    "    for page in range(1, 31):\n",
    "        try:\n",
    "            page_url =  okrug.format(page)\n",
    "\n",
    "            search_page = requests.get(page_url)\n",
    "            search_page = search_page.content\n",
    "            search_page = BeautifulSoup(search_page, 'lxml')\n",
    "\n",
    "            flat_urls = search_page.findAll('div', attrs = {'ng-class':\"{'serp-item_removed': offer.remove.state, 'serp-item_popup-opened': isPopupOpen}\"})\n",
    "            flat_urls = re.split('http://www.cian.ru/sale/flat/|/\" ng-class=\"', str(flat_urls))\n",
    "\n",
    "\n",
    "            for link in flat_urls:\n",
    "                if link.isdigit():\n",
    "                    links.append(link)\n",
    "        except:\n",
    "            print(':с')\n",
    "            \n",
    "    links = delete_dublicates(links)\n",
    "    \n",
    "    for link in links:\n",
    "        try:\n",
    "            n_count = n_count + 1\n",
    "\n",
    "            flat_page = requests.get(links_basis.format(link))\n",
    "            flat_page = flat_page.content\n",
    "            flat_page = BeautifulSoup(flat_page, 'lxml')\n",
    "            appendix = {'n':n_count,\\\n",
    "                        'rooms':getRoom(flat_page),\\\n",
    "                        'price':getPrice(flat_page),\\\n",
    "                        'totsp':getTotsp(flat_page),\\\n",
    "                        'livesp':getLivesp(flat_page),\\\n",
    "                        'kitsp':getKitsp(flat_page),\\\n",
    "                        'dist':getDist(flat_page),\\\n",
    "                        'metrdist':getMetrdist(flat_page),\\\n",
    "                        'walk':getWalk(flat_page),\\\n",
    "                        'brick':getBrick(flat_page),\\\n",
    "                        'tel':getTel(flat_page),\\\n",
    "                        'bal':getBal(flat_page),\\\n",
    "                        'floor':getFloor(flat_page),\\\n",
    "                        'nfloors':getNfloors(flat_page),\\\n",
    "                        'new':getNew(flat_page),\\\n",
    "                        }\n",
    "            Data_Flats = Data_Flats.append(appendix, ignore_index=True) #Это итоговый массив с квартирами и их параметрами.\n",
    "        except:\n",
    "            print(':C')"
   ]
  },
  {
   "cell_type": "code",
   "execution_count": 86,
   "metadata": {
    "collapsed": false
   },
   "outputs": [],
   "source": [
    "Data_Flats.to_csv('Data_Flats.csv')"
   ]
  },
  {
   "cell_type": "code",
   "execution_count": null,
   "metadata": {
    "collapsed": true
   },
   "outputs": [],
   "source": []
  }
 ],
 "metadata": {
  "anaconda-cloud": {},
  "kernelspec": {
   "display_name": "Python [default]",
   "language": "python",
   "name": "python3"
  },
  "language_info": {
   "codemirror_mode": {
    "name": "ipython",
    "version": 3
   },
   "file_extension": ".py",
   "mimetype": "text/x-python",
   "name": "python",
   "nbconvert_exporter": "python",
   "pygments_lexer": "ipython3",
   "version": "3.5.2"
  }
 },
 "nbformat": 4,
 "nbformat_minor": 1
}
